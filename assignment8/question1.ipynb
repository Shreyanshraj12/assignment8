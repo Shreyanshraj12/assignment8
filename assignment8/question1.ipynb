{
 "cells": [
  {
   "cell_type": "code",
   "execution_count": 1,
   "metadata": {},
   "outputs": [
    {
     "name": "stdout",
     "output_type": "stream",
     "text": [
      "231\n"
     ]
    }
   ],
   "source": [
    "def minimumDeleteSum(s1, s2):\n",
    "    m, n = len(s1), len(s2)\n",
    "    dp = [[0] * (n+1) for _ in range(m+1)]\n",
    "    \n",
    "    # Initialize the first row and column\n",
    "    for i in range(1, m+1):\n",
    "        dp[i][0] = dp[i-1][0] + ord(s1[i-1])\n",
    "    for j in range(1, n+1):\n",
    "        dp[0][j] = dp[0][j-1] + ord(s2[j-1])\n",
    "    \n",
    "    # Fill in the dp array\n",
    "    for i in range(1, m+1):\n",
    "        for j in range(1, n+1):\n",
    "            if s1[i-1] == s2[j-1]:\n",
    "                dp[i][j] = dp[i-1][j-1]\n",
    "            else:\n",
    "                dp[i][j] = min(dp[i-1][j] + ord(s1[i-1]), dp[i][j-1] + ord(s2[j-1]))\n",
    "    \n",
    "    return dp[m][n]\n",
    "s1 = \"sea\"\n",
    "s2 = \"eat\"\n",
    "result = minimumDeleteSum(s1, s2)\n",
    "print(result)"
   ]
  }
 ],
 "metadata": {
  "kernelspec": {
   "display_name": "Python 3",
   "language": "python",
   "name": "python3"
  },
  "language_info": {
   "codemirror_mode": {
    "name": "ipython",
    "version": 3
   },
   "file_extension": ".py",
   "mimetype": "text/x-python",
   "name": "python",
   "nbconvert_exporter": "python",
   "pygments_lexer": "ipython3",
   "version": "3.11.1"
  },
  "orig_nbformat": 4
 },
 "nbformat": 4,
 "nbformat_minor": 2
}
