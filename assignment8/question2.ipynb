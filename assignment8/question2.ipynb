{
 "cells": [
  {
   "cell_type": "code",
   "execution_count": 1,
   "metadata": {},
   "outputs": [
    {
     "name": "stdout",
     "output_type": "stream",
     "text": [
      "True\n"
     ]
    }
   ],
   "source": [
    "def checkValidString(s):\n",
    "    stack = []\n",
    "\n",
    "    # First pass: Match '*' and '(' with corresponding ')'\n",
    "    for char in s:\n",
    "        if char in ['(', '*']:\n",
    "            stack.append(char)\n",
    "        else:\n",
    "            if stack and stack[-1] == '(':\n",
    "                stack.pop()\n",
    "            else:\n",
    "                stack.append(char)\n",
    "\n",
    "    # Second pass: Match remaining '(' with '*'\n",
    "    i = len(stack) - 1\n",
    "    while stack and stack[i] == '(':\n",
    "        stack.pop()\n",
    "        i -= 1\n",
    "\n",
    "    return len(stack) == 0\n",
    "s = \"()\"\n",
    "result = checkValidString(s)\n",
    "print(result) "
   ]
  }
 ],
 "metadata": {
  "kernelspec": {
   "display_name": "Python 3",
   "language": "python",
   "name": "python3"
  },
  "language_info": {
   "codemirror_mode": {
    "name": "ipython",
    "version": 3
   },
   "file_extension": ".py",
   "mimetype": "text/x-python",
   "name": "python",
   "nbconvert_exporter": "python",
   "pygments_lexer": "ipython3",
   "version": "3.11.1"
  },
  "orig_nbformat": 4
 },
 "nbformat": 4,
 "nbformat_minor": 2
}
