{
 "cells": [
  {
   "cell_type": "code",
   "execution_count": 1,
   "metadata": {},
   "outputs": [
    {
     "name": "stdout",
     "output_type": "stream",
     "text": [
      "[3, 2, 1, 4, 5, 6]\n"
     ]
    }
   ],
   "source": [
    "class TreeNode:\n",
    "    def __init__(self, val=0, left=None, right=None):\n",
    "        self.val = val\n",
    "        self.left = left\n",
    "        self.right = right\n",
    "\n",
    "def buildTree(s):\n",
    "    if not s:\n",
    "        return None\n",
    "    \n",
    "  \n",
    "    index = s.find('(')\n",
    "    if index == -1:\n",
    "       \n",
    "        return TreeNode(int(s))\n",
    "   \n",
    "    node = TreeNode(int(s[:index]))\n",
    "    \n",
    "    \n",
    "    count = 0\n",
    "    i = index\n",
    "    while i < len(s):\n",
    "        if s[i] == '(':\n",
    "            count += 1\n",
    "        elif s[i] == ')':\n",
    "            count -= 1\n",
    "            if count == 0:\n",
    "                break\n",
    "        i += 1\n",
    "    \n",
    "   \n",
    "    left_subtree = s[index+1:i]\n",
    "    right_subtree = s[i+2:-1]\n",
    "    \n",
    "   \n",
    "    node.left = buildTree(left_subtree)\n",
    "    node.right = buildTree(right_subtree)\n",
    "    \n",
    "    return node\n",
    "\n",
    "def inorderTraversal(root):\n",
    "    if root is None:\n",
    "        return []\n",
    "    \n",
    "    result = []\n",
    "    result += inorderTraversal(root.left)\n",
    "    result.append(root.val)\n",
    "    result += inorderTraversal(root.right)\n",
    "    \n",
    "    return result\n",
    "\n",
    "\n",
    "s = \"4(2(3)(1))(6(5))\"\n",
    "root = buildTree(s)\n",
    "result = inorderTraversal(root)\n",
    "print(result)  "
   ]
  }
 ],
 "metadata": {
  "kernelspec": {
   "display_name": "Python 3",
   "language": "python",
   "name": "python3"
  },
  "language_info": {
   "codemirror_mode": {
    "name": "ipython",
    "version": 3
   },
   "file_extension": ".py",
   "mimetype": "text/x-python",
   "name": "python",
   "nbconvert_exporter": "python",
   "pygments_lexer": "ipython3",
   "version": "3.11.1"
  },
  "orig_nbformat": 4
 },
 "nbformat": 4,
 "nbformat_minor": 2
}
