{
 "cells": [
  {
   "cell_type": "code",
   "execution_count": 1,
   "metadata": {},
   "outputs": [
    {
     "name": "stdout",
     "output_type": "stream",
     "text": [
      "[0, 6]\n"
     ]
    }
   ],
   "source": [
    "from collections import Counter\n",
    "\n",
    "def findAnagrams(s, p):\n",
    "    result = []\n",
    "    target_dict = Counter(p)\n",
    "    window_dict = Counter()\n",
    "\n",
    "    left, right = 0, 0\n",
    "    window_size = len(p)\n",
    "    s_len = len(s)\n",
    "\n",
    "    while right < s_len:\n",
    "        window_dict[s[right]] += 1\n",
    "\n",
    "        if right >= window_size:\n",
    "            if window_dict[s[left]] == 1:\n",
    "                del window_dict[s[left]]\n",
    "            else:\n",
    "                window_dict[s[left]] -= 1\n",
    "            left += 1\n",
    "\n",
    "        if window_dict == target_dict:\n",
    "            result.append(left)\n",
    "\n",
    "        right += 1\n",
    "\n",
    "    return result\n",
    "\n",
    "# Test the example input\n",
    "s = \"cbaebabacd\"\n",
    "p = \"abc\"\n",
    "result = findAnagrams(s, p)\n",
    "print(result)"
   ]
  }
 ],
 "metadata": {
  "kernelspec": {
   "display_name": "Python 3",
   "language": "python",
   "name": "python3"
  },
  "language_info": {
   "codemirror_mode": {
    "name": "ipython",
    "version": 3
   },
   "file_extension": ".py",
   "mimetype": "text/x-python",
   "name": "python",
   "nbconvert_exporter": "python",
   "pygments_lexer": "ipython3",
   "version": "3.11.1"
  },
  "orig_nbformat": 4
 },
 "nbformat": 4,
 "nbformat_minor": 2
}
